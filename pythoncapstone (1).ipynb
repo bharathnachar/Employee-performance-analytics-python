{
 "cells": [
  {
   "cell_type": "code",
   "execution_count": 19,
   "id": "c91e7737-b483-4d2e-9fb2-c9441317cb62",
   "metadata": {},
   "outputs": [],
   "source": [
    "# Importing pandas library to handle dataframes\n",
    "import pandas as pd\n",
    "\n",
    "# Creating the Employee DataFrame\n",
    "# Defining employee data as a dictionary\n",
    "employee_data = {\n",
    "    'ID': ['A001', 'A002', 'A003', 'A004', 'A005'],  # Unique employee IDs\n",
    "    'Name': ['John Alter', 'Alice Luxumberg', 'Tom Sabestine', 'Nina Adgra', 'Amy Johny'],  # Names of employee\n",
    "    'Gender': ['M', 'F', 'M', 'F', 'F'],  # Gender of each employee\n",
    "    'City': ['Paris', 'London', 'Berlin', 'Newyork', 'Madrid'],  # City/location of each employee\n",
    "    'Age': [25, 27, 29, 31, 30]  # Age (years of employee)\n",
    "}\n",
    "\n",
    "# Creating a pandas DataFrame from the employee data\n",
    "employee_df = pd.DataFrame(employee_data)\n",
    "\n",
    "# Saving the employee DataFrame as a CSV file\n",
    "employee_df.to_csv('employee_data.csv', index=False)  # index=False prevents saving row numbers in the file\n",
    "\n",
    "# Creating the Seniority Level DataFrame\n",
    "# Defining designation level data for each employee\n",
    "seniority_data = {\n",
    "    'ID': ['A001', 'A002', 'A003', 'A004', 'A005'],  # Matching IDs\n",
    "    'Designation Level': [2, 2, 3, 2, 3]  # Designation level of each employee \n",
    "}\n",
    "\n",
    "# Creating a pandas DataFrame for seniority levels\n",
    "seniority_df = pd.DataFrame(seniority_data)\n",
    "\n",
    "# Saving the seniority DataFrame as a CSV file\n",
    "seniority_df.to_csv('seniority_data.csv', index=False)\n",
    "\n",
    "# Creating the Project DataFrame\n",
    "# Defining project data: multiple entries for each project head\n",
    "project_data = {\n",
    "    'ID': ['A001', 'A002', 'A003', 'A004', 'A005', 'A002', 'A005', 'A003', 'A001', 'A003', 'A001', 'A004', 'A004', 'A005'], # IDs\n",
    "    'Project': [ 'Project 1', 'Project 2', 'Project 3', 'Project 4', 'Project 5','Project 6', 'Project 7', 'Project 8', \n",
    "                'Project 9', 'Project 10','Project 11', 'Project 12', 'Project 13', 'Project 14'], # Names of the projects\n",
    "    'Project Cost': [ 1002000, 2000000, 4500000, 5500000, None, 680000, 400000, 350000, \n",
    "                     None, 300000, 2000000, 1000000, 3000000, 200000],  # Cost of each project (some are missing)\n",
    "    'Status': [ 'Finished', 'Ongoing', 'Finished', 'Ongoing', 'Finished','Failed', 'Finished', 'Failed', 'Ongoing', 'Finished',\n",
    "        'Failed', 'Ongoing', 'Finished', 'Finished']  # Project outcome: Finished, Ongoing, or Failed\n",
    "}\n",
    "\n",
    "# Creating the Project DataFrame from the data\n",
    "project_df = pd.DataFrame(project_data)\n",
    "\n",
    "# Saving the project DataFrame as a CSV file\n",
    "project_df.to_csv('project_data.csv', index=False)"
   ]
  },
  {
   "cell_type": "code",
   "execution_count": 20,
   "id": "ac86f8f4-fad3-4d36-b59f-c7515e3ce490",
   "metadata": {
    "scrolled": true
   },
   "outputs": [
    {
     "name": "stdout",
     "output_type": "stream",
     "text": [
      "      ID     Project  Project Cost    Status\n",
      "0   A001   Project 1     1002000.0  Finished\n",
      "1   A002   Project 2     2000000.0   Ongoing\n",
      "2   A003   Project 3     4500000.0  Finished\n",
      "3   A004   Project 4     5500000.0   Ongoing\n",
      "4   A005   Project 5     3250500.0  Finished\n",
      "5   A002   Project 6      680000.0    Failed\n",
      "6   A005   Project 7      400000.0  Finished\n",
      "7   A003   Project 8      350000.0    Failed\n",
      "8   A001   Project 9     2210312.5   Ongoing\n",
      "9   A003  Project 10      300000.0  Finished\n",
      "10  A001  Project 11     2000000.0    Failed\n",
      "11  A004  Project 12     1000000.0   Ongoing\n",
      "12  A004  Project 13     3000000.0  Finished\n",
      "13  A005  Project 14      200000.0  Finished\n"
     ]
    }
   ],
   "source": [
    "# Reading the project data from CSV file\n",
    "project_df = pd.read_csv('project_data.csv')\n",
    "\n",
    "# Creating an empty list to store running costs for averaging\n",
    "running_costs = []\n",
    "\n",
    "# Iterating through each row using a for loop with index\n",
    "for i in range(len(project_df)):\n",
    "    # Check if 'Project Cost' is a missing value (NaN)\n",
    "    if pd.isna(project_df.loc[i, 'Project Cost']):\n",
    "        # Calculate average of the running_costs list\n",
    "        if running_costs:  # Avoid division by zero\n",
    "            avg_cost = sum(running_costs) / len(running_costs)\n",
    "        else:\n",
    "            avg_cost = 0  # If no previous value exists, use 0 as a fallback\n",
    "        # Replace the missing value with the running average\n",
    "        project_df.loc[i, 'Project Cost'] = avg_cost\n",
    "    # Append the current (now non-null) cost to the running_costs list\n",
    "    running_costs.append(project_df.loc[i, 'Project Cost'])\n",
    "\n",
    "# Optional: Save the updated DataFrame to a new CSV file\n",
    "project_df.to_csv('project_data_filled.csv', index=False)\n",
    "\n",
    "# Display the updated DataFrame (optional for testing)\n",
    "print(project_df)"
   ]
  },
  {
   "cell_type": "code",
   "execution_count": 23,
   "id": "30ae6eda-6182-4dfd-967c-d5c98ea2c3e2",
   "metadata": {
    "scrolled": true
   },
   "outputs": [
    {
     "name": "stdout",
     "output_type": "stream",
     "text": [
      "     ID Gender     City  Age First Name  Last Name\n",
      "0  A001      M    Paris   25       John      Alter\n",
      "1  A002      F   London   27      Alice  Luxumberg\n",
      "2  A003      M   Berlin   29        Tom  Sabestine\n",
      "3  A004      F  Newyork   31       Nina      Adgra\n",
      "4  A005      F   Madrid   30        Amy      Johny\n"
     ]
    }
   ],
   "source": [
    "# Load the employee data from the CSV file\n",
    "employee_df = pd.read_csv('employee_data.csv')\n",
    "\n",
    "# Split the 'Name' column into 'First Name' and 'Last Name' using split with n=1 and expand=True\n",
    "employee_df[['First Name', 'Last Name']] = employee_df['Name'].str.split(n=1, expand=True)\n",
    "\n",
    "# Drop the original 'Name' column as it's no longer needed\n",
    "employee_df.drop('Name', axis=1, inplace=True)\n",
    "\n",
    "# Save the modified DataFrame to a new CSV file\n",
    "employee_df.to_csv('employee_data_updated.csv', index=False)\n",
    "\n",
    "# Print the final DataFrame to confirm the changes\n",
    "print(employee_df)"
   ]
  },
  {
   "cell_type": "code",
   "execution_count": 24,
   "id": "61fc4741-592d-4a8a-b2c6-7b20a735d72e",
   "metadata": {
    "scrolled": true
   },
   "outputs": [
    {
     "name": "stdout",
     "output_type": "stream",
     "text": [
      "      ID Gender     City  Age First Name  Last Name  Designation Level  \\\n",
      "0   A001      M    Paris   25       John      Alter                  2   \n",
      "1   A001      M    Paris   25       John      Alter                  2   \n",
      "2   A001      M    Paris   25       John      Alter                  2   \n",
      "3   A002      F   London   27      Alice  Luxumberg                  2   \n",
      "4   A002      F   London   27      Alice  Luxumberg                  2   \n",
      "5   A003      M   Berlin   29        Tom  Sabestine                  3   \n",
      "6   A003      M   Berlin   29        Tom  Sabestine                  3   \n",
      "7   A003      M   Berlin   29        Tom  Sabestine                  3   \n",
      "8   A004      F  Newyork   31       Nina      Adgra                  2   \n",
      "9   A004      F  Newyork   31       Nina      Adgra                  2   \n",
      "10  A004      F  Newyork   31       Nina      Adgra                  2   \n",
      "11  A005      F   Madrid   30        Amy      Johny                  3   \n",
      "12  A005      F   Madrid   30        Amy      Johny                  3   \n",
      "13  A005      F   Madrid   30        Amy      Johny                  3   \n",
      "\n",
      "       Project  Project Cost    Status  \n",
      "0    Project 1     1002000.0  Finished  \n",
      "1    Project 9     2210312.5   Ongoing  \n",
      "2   Project 11     2000000.0    Failed  \n",
      "3    Project 2     2000000.0   Ongoing  \n",
      "4    Project 6      680000.0    Failed  \n",
      "5    Project 3     4500000.0  Finished  \n",
      "6    Project 8      350000.0    Failed  \n",
      "7   Project 10      300000.0  Finished  \n",
      "8    Project 4     5500000.0   Ongoing  \n",
      "9   Project 12     1000000.0   Ongoing  \n",
      "10  Project 13     3000000.0  Finished  \n",
      "11   Project 5     3250500.0  Finished  \n",
      "12   Project 7      400000.0  Finished  \n",
      "13  Project 14      200000.0  Finished  \n"
     ]
    }
   ],
   "source": [
    "# Load the updated employee data (with First and Last Name)\n",
    "employee_df = pd.read_csv('employee_data_updated.csv')\n",
    "\n",
    "# Load the seniority level data\n",
    "seniority_df = pd.read_csv('seniority_data.csv')\n",
    "\n",
    "# Load the project data with filled missing costs\n",
    "project_df = pd.read_csv('project_data_filled.csv')\n",
    "\n",
    "# Merge employee and seniority data on 'ID'\n",
    "emp_seniority_df = pd.merge(employee_df, seniority_df, on='ID')\n",
    "\n",
    "# Merge the above result with project data on 'ID'\n",
    "final_df = pd.merge(emp_seniority_df, project_df, on='ID')\n",
    "\n",
    "# Save the final merged DataFrame to a CSV\n",
    "final_df.to_csv('final.csv', index=False)\n",
    "\n",
    "# Print the final DataFrame for verification\n",
    "print(final_df)"
   ]
  },
  {
   "cell_type": "code",
   "execution_count": 26,
   "id": "3cd02cc2-ac96-4f3d-a3db-9fe91b2db87b",
   "metadata": {
    "scrolled": true
   },
   "outputs": [
    {
     "name": "stdout",
     "output_type": "stream",
     "text": [
      "      ID Gender     City  Age First Name  Last Name  Designation Level  \\\n",
      "0   A001      M    Paris   25       John      Alter                  2   \n",
      "1   A001      M    Paris   25       John      Alter                  2   \n",
      "2   A001      M    Paris   25       John      Alter                  2   \n",
      "3   A002      F   London   27      Alice  Luxumberg                  2   \n",
      "4   A002      F   London   27      Alice  Luxumberg                  2   \n",
      "5   A003      M   Berlin   29        Tom  Sabestine                  3   \n",
      "6   A003      M   Berlin   29        Tom  Sabestine                  3   \n",
      "7   A003      M   Berlin   29        Tom  Sabestine                  3   \n",
      "8   A004      F  Newyork   31       Nina      Adgra                  2   \n",
      "9   A004      F  Newyork   31       Nina      Adgra                  2   \n",
      "10  A004      F  Newyork   31       Nina      Adgra                  2   \n",
      "11  A005      F   Madrid   30        Amy      Johny                  3   \n",
      "12  A005      F   Madrid   30        Amy      Johny                  3   \n",
      "13  A005      F   Madrid   30        Amy      Johny                  3   \n",
      "\n",
      "       Project  Project Cost    Status     Bonus  \n",
      "0    Project 1     1002000.0  Finished   50100.0  \n",
      "1    Project 9     2210312.5   Ongoing       0.0  \n",
      "2   Project 11     2000000.0    Failed       0.0  \n",
      "3    Project 2     2000000.0   Ongoing       0.0  \n",
      "4    Project 6      680000.0    Failed       0.0  \n",
      "5    Project 3     4500000.0  Finished  225000.0  \n",
      "6    Project 8      350000.0    Failed       0.0  \n",
      "7   Project 10      300000.0  Finished   15000.0  \n",
      "8    Project 4     5500000.0   Ongoing       0.0  \n",
      "9   Project 12     1000000.0   Ongoing       0.0  \n",
      "10  Project 13     3000000.0  Finished  150000.0  \n",
      "11   Project 5     3250500.0  Finished  162525.0  \n",
      "12   Project 7      400000.0  Finished   20000.0  \n",
      "13  Project 14      200000.0  Finished   10000.0  \n"
     ]
    }
   ],
   "source": [
    "# Load the merged final data from the CSV file\n",
    "final_df = pd.read_csv('final.csv')\n",
    "\n",
    "# Create a new 'Bonus' column using a conditional operation\n",
    "# If project status is 'Finished', calculate 5% of Project Cost, else set to 0\n",
    "final_df['Bonus'] = final_df.apply(\n",
    "    lambda row: row['Project Cost'] * 0.05 if row['Status'] == 'Finished' else 0,\n",
    "    axis=1  # Apply the function row-wise\n",
    ")\n",
    "\n",
    "# Save the updated DataFrame back to CSV\n",
    "final_df.to_csv('final_with_bonus.csv', index=False)\n",
    "\n",
    "# Print the updated DataFrame to verify the Bonus column\n",
    "print(final_df)"
   ]
  },
  {
   "cell_type": "code",
   "execution_count": 27,
   "id": "80e8f55d-1b73-4533-98e2-cd4158faacbf",
   "metadata": {
    "scrolled": true
   },
   "outputs": [
    {
     "name": "stdout",
     "output_type": "stream",
     "text": [
      "      ID Gender     City  Age First Name  Last Name  Designation Level  \\\n",
      "0   A001      M    Paris   25       John      Alter                  2   \n",
      "1   A001      M    Paris   25       John      Alter                  2   \n",
      "2   A001      M    Paris   25       John      Alter                  3   \n",
      "3   A002      F   London   27      Alice  Luxumberg                  2   \n",
      "4   A002      F   London   27      Alice  Luxumberg                  3   \n",
      "5   A003      M   Berlin   29        Tom  Sabestine                  3   \n",
      "6   A003      M   Berlin   29        Tom  Sabestine                  4   \n",
      "7   A003      M   Berlin   29        Tom  Sabestine                  3   \n",
      "8   A004      F  Newyork   31       Nina      Adgra                  2   \n",
      "9   A004      F  Newyork   31       Nina      Adgra                  2   \n",
      "10  A004      F  Newyork   31       Nina      Adgra                  2   \n",
      "11  A005      F   Madrid   30        Amy      Johny                  3   \n",
      "12  A005      F   Madrid   30        Amy      Johny                  3   \n",
      "13  A005      F   Madrid   30        Amy      Johny                  3   \n",
      "\n",
      "       Project  Project Cost    Status     Bonus  \n",
      "0    Project 1     1002000.0  Finished   50100.0  \n",
      "1    Project 9     2210312.5   Ongoing       0.0  \n",
      "2   Project 11     2000000.0    Failed       0.0  \n",
      "3    Project 2     2000000.0   Ongoing       0.0  \n",
      "4    Project 6      680000.0    Failed       0.0  \n",
      "5    Project 3     4500000.0  Finished  225000.0  \n",
      "6    Project 8      350000.0    Failed       0.0  \n",
      "7   Project 10      300000.0  Finished   15000.0  \n",
      "8    Project 4     5500000.0   Ongoing       0.0  \n",
      "9   Project 12     1000000.0   Ongoing       0.0  \n",
      "10  Project 13     3000000.0  Finished  150000.0  \n",
      "11   Project 5     3250500.0  Finished  162525.0  \n",
      "12   Project 7      400000.0  Finished   20000.0  \n",
      "13  Project 14      200000.0  Finished   10000.0  \n"
     ]
    }
   ],
   "source": [
    "# Load the Final DataFrame with bonus included\n",
    "final_df = pd.read_csv('final_with_bonus.csv')\n",
    "\n",
    "# Step 1: Demote Designation Level by 1 for employees whose project status is 'Failed'\n",
    "final_df.loc[final_df['Status'] == 'Failed', 'Designation Level'] += 1\n",
    "\n",
    "# Step 2: Remove records where the Designation Level is now greater than 4 (ineligible)\n",
    "final_df = final_df[final_df['Designation Level'] <= 4]\n",
    "\n",
    "# Optional: Save the updated DataFrame to a new CSV\n",
    "final_df.to_csv('final_demoted.csv', index=False)\n",
    "\n",
    "# Print the cleaned DataFrame\n",
    "print(final_df)"
   ]
  },
  {
   "cell_type": "code",
   "execution_count": 28,
   "id": "815adb92-6def-4588-aeaf-bd319fd727c5",
   "metadata": {
    "scrolled": true
   },
   "outputs": [
    {
     "name": "stdout",
     "output_type": "stream",
     "text": [
      "      ID     City  Age  First Name  Last Name  Designation Level     Project  \\\n",
      "0   A001    Paris   25    Mr. John      Alter                  2   Project 1   \n",
      "1   A001    Paris   25    Mr. John      Alter                  2   Project 9   \n",
      "2   A001    Paris   25    Mr. John      Alter                  3  Project 11   \n",
      "3   A002   London   27  Mrs. Alice  Luxumberg                  2   Project 2   \n",
      "4   A002   London   27  Mrs. Alice  Luxumberg                  3   Project 6   \n",
      "5   A003   Berlin   29     Mr. Tom  Sabestine                  3   Project 3   \n",
      "6   A003   Berlin   29     Mr. Tom  Sabestine                  4   Project 8   \n",
      "7   A003   Berlin   29     Mr. Tom  Sabestine                  3  Project 10   \n",
      "8   A004  Newyork   31   Mrs. Nina      Adgra                  2   Project 4   \n",
      "9   A004  Newyork   31   Mrs. Nina      Adgra                  2  Project 12   \n",
      "10  A004  Newyork   31   Mrs. Nina      Adgra                  2  Project 13   \n",
      "11  A005   Madrid   30    Mrs. Amy      Johny                  3   Project 5   \n",
      "12  A005   Madrid   30    Mrs. Amy      Johny                  3   Project 7   \n",
      "13  A005   Madrid   30    Mrs. Amy      Johny                  3  Project 14   \n",
      "\n",
      "    Project Cost    Status     Bonus  \n",
      "0      1002000.0  Finished   50100.0  \n",
      "1      2210312.5   Ongoing       0.0  \n",
      "2      2000000.0    Failed       0.0  \n",
      "3      2000000.0   Ongoing       0.0  \n",
      "4       680000.0    Failed       0.0  \n",
      "5      4500000.0  Finished  225000.0  \n",
      "6       350000.0    Failed       0.0  \n",
      "7       300000.0  Finished   15000.0  \n",
      "8      5500000.0   Ongoing       0.0  \n",
      "9      1000000.0   Ongoing       0.0  \n",
      "10     3000000.0  Finished  150000.0  \n",
      "11     3250500.0  Finished  162525.0  \n",
      "12      400000.0  Finished   20000.0  \n",
      "13      200000.0  Finished   10000.0  \n"
     ]
    }
   ],
   "source": [
    "# Load the most recent DataFrame after demotion filtering\n",
    "final_df = pd.read_csv('final_demoted.csv')\n",
    "\n",
    "# Step 1: Add title to the 'First Name' based on 'Gender'\n",
    "# Use 'apply' with a lambda to check gender and add appropriate prefix\n",
    "final_df['First Name'] = final_df.apply(\n",
    "    lambda row: 'Mr. ' + row['First Name'] if row['Gender'] == 'M' else 'Mrs. ' + row['First Name'],\n",
    "    axis=1\n",
    ")\n",
    "\n",
    "# Step 2: Drop the 'Gender' column\n",
    "final_df.drop('Gender', axis=1, inplace=True)\n",
    "\n",
    "# Save the updated DataFrame to a new CSV\n",
    "final_df.to_csv('final_with_titles.csv', index=False)\n",
    "\n",
    "# Display the updated DataFrame\n",
    "print(final_df)"
   ]
  },
  {
   "cell_type": "code",
   "execution_count": 30,
   "id": "f40962eb-cdb1-487f-9e04-fc8b515725ca",
   "metadata": {
    "scrolled": true
   },
   "outputs": [
    {
     "name": "stdout",
     "output_type": "stream",
     "text": [
      "      ID     City  Age  First Name  Last Name  Designation Level     Project  \\\n",
      "0   A001    Paris   25    Mr. John      Alter                  2   Project 1   \n",
      "1   A001    Paris   25    Mr. John      Alter                  2   Project 9   \n",
      "2   A001    Paris   25    Mr. John      Alter                  3  Project 11   \n",
      "3   A002   London   27  Mrs. Alice  Luxumberg                  2   Project 2   \n",
      "4   A002   London   27  Mrs. Alice  Luxumberg                  3   Project 6   \n",
      "5   A003   Berlin   29     Mr. Tom  Sabestine                  3   Project 3   \n",
      "6   A003   Berlin   29     Mr. Tom  Sabestine                  4   Project 8   \n",
      "7   A003   Berlin   29     Mr. Tom  Sabestine                  3  Project 10   \n",
      "8   A004  Newyork   31   Mrs. Nina      Adgra                  1   Project 4   \n",
      "9   A004  Newyork   31   Mrs. Nina      Adgra                  1  Project 12   \n",
      "10  A004  Newyork   31   Mrs. Nina      Adgra                  1  Project 13   \n",
      "11  A005   Madrid   30    Mrs. Amy      Johny                  2   Project 5   \n",
      "12  A005   Madrid   30    Mrs. Amy      Johny                  2   Project 7   \n",
      "13  A005   Madrid   30    Mrs. Amy      Johny                  2  Project 14   \n",
      "\n",
      "    Project Cost    Status     Bonus  \n",
      "0      1002000.0  Finished   50100.0  \n",
      "1      2210312.5   Ongoing       0.0  \n",
      "2      2000000.0    Failed       0.0  \n",
      "3      2000000.0   Ongoing       0.0  \n",
      "4       680000.0    Failed       0.0  \n",
      "5      4500000.0  Finished  225000.0  \n",
      "6       350000.0    Failed       0.0  \n",
      "7       300000.0  Finished   15000.0  \n",
      "8      5500000.0   Ongoing       0.0  \n",
      "9      1000000.0   Ongoing       0.0  \n",
      "10     3000000.0  Finished  150000.0  \n",
      "11     3250500.0  Finished  162525.0  \n",
      "12      400000.0  Finished   20000.0  \n",
      "13      200000.0  Finished   10000.0  \n"
     ]
    }
   ],
   "source": [
    "# Load the DataFrame from the previous task\n",
    "final_df = pd.read_csv('final_with_titles.csv')\n",
    "\n",
    "# Use IF condition to promote employees whose age > 29 by decreasing designation level by 1\n",
    "# Make sure not to promote beyond level 1 (highest)\n",
    "final_df['Designation Level'] = final_df.apply(\n",
    "    lambda row: row['Designation Level'] - 1 if row['Age'] > 29 and row['Designation Level'] > 1 else row['Designation Level'],\n",
    "    axis=1\n",
    ")\n",
    "\n",
    "# Save the updated DataFrame to a new CSV file\n",
    "final_df.to_csv('final_promoted.csv', index=False)\n",
    "\n",
    "# Print the updated DataFrame for verification\n",
    "print(final_df)"
   ]
  },
  {
   "cell_type": "code",
   "execution_count": 31,
   "id": "7a2d7a74-6a51-497b-9e9b-47e4b79cb722",
   "metadata": {
    "scrolled": true
   },
   "outputs": [
    {
     "name": "stdout",
     "output_type": "stream",
     "text": [
      "     ID  First Name  Total Cost\n",
      "0  A001    Mr. John   5212312.5\n",
      "1  A002  Mrs. Alice   2680000.0\n",
      "2  A003     Mr. Tom   5150000.0\n",
      "3  A004   Mrs. Nina   9500000.0\n",
      "4  A005    Mrs. Amy   3850500.0\n"
     ]
    }
   ],
   "source": [
    "# Load the most recent DataFrame\n",
    "final_df = pd.read_csv('final_promoted.csv')\n",
    "\n",
    "# Step 1: Group the data by 'ID' and 'First Name' to sum the 'Project Cost'\n",
    "# This aggregates total project cost for each employee\n",
    "total_proj_cost_df = final_df.groupby(['ID', 'First Name'])['Project Cost'].sum().reset_index()\n",
    "\n",
    "# Step 2: Rename the 'Project Cost' column to 'Total Cost'\n",
    "total_proj_cost_df.rename(columns={'Project Cost': 'Total Cost'}, inplace=True)\n",
    "\n",
    "# Step 3: Save the new DataFrame to a CSV file\n",
    "total_proj_cost_df.to_csv('TotalProjCost.csv', index=False)\n",
    "\n",
    "# Step 4: Print the new TotalProjCost DataFrame\n",
    "print(total_proj_cost_df)"
   ]
  },
  {
   "cell_type": "code",
   "execution_count": 32,
   "id": "9be00e78-ab8f-495d-b55c-eb5662857239",
   "metadata": {
    "scrolled": true
   },
   "outputs": [
    {
     "name": "stdout",
     "output_type": "stream",
     "text": [
      "      ID     City  Age  First Name  Last Name  Designation Level     Project  \\\n",
      "3   A002   London   27  Mrs. Alice  Luxumberg                  2   Project 2   \n",
      "4   A002   London   27  Mrs. Alice  Luxumberg                  3   Project 6   \n",
      "8   A004  Newyork   31   Mrs. Nina      Adgra                  1   Project 4   \n",
      "9   A004  Newyork   31   Mrs. Nina      Adgra                  1  Project 12   \n",
      "10  A004  Newyork   31   Mrs. Nina      Adgra                  1  Project 13   \n",
      "\n",
      "    Project Cost    Status     Bonus  \n",
      "3      2000000.0   Ongoing       0.0  \n",
      "4       680000.0    Failed       0.0  \n",
      "8      5500000.0   Ongoing       0.0  \n",
      "9      1000000.0   Ongoing       0.0  \n",
      "10     3000000.0  Finished  150000.0  \n"
     ]
    }
   ],
   "source": [
    "# Load the most recent version of the DataFrame\n",
    "final_df = pd.read_csv('final_promoted.csv')\n",
    "\n",
    "# Step 1: Use string matching to filter cities containing the letter 'o' (case-insensitive)\n",
    "employees_with_o_in_city = final_df[final_df['City'].str.contains('o', case=False)]\n",
    "\n",
    "# Step 2: Print the filtered employee details\n",
    "print(employees_with_o_in_city)"
   ]
  }
 ],
 "metadata": {
  "kernelspec": {
   "display_name": "Python 3 (ipykernel)",
   "language": "python",
   "name": "python3"
  },
  "language_info": {
   "codemirror_mode": {
    "name": "ipython",
    "version": 3
   },
   "file_extension": ".py",
   "mimetype": "text/x-python",
   "name": "python",
   "nbconvert_exporter": "python",
   "pygments_lexer": "ipython3",
   "version": "3.12.7"
  }
 },
 "nbformat": 4,
 "nbformat_minor": 5
}
